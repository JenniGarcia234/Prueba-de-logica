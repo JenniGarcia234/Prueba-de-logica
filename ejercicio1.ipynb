{
  "nbformat": 4,
  "nbformat_minor": 0,
  "metadata": {
    "colab": {
      "name": "ejercicio1.ipynb",
      "provenance": [],
      "collapsed_sections": [],
      "authorship_tag": "ABX9TyNSmY5fBfOMVsPVkTInQzvI",
      "include_colab_link": true
    },
    "kernelspec": {
      "name": "python3",
      "display_name": "Python 3"
    },
    "language_info": {
      "name": "python"
    }
  },
  "cells": [
    {
      "cell_type": "markdown",
      "metadata": {
        "id": "view-in-github",
        "colab_type": "text"
      },
      "source": [
        "<a href=\"https://colab.research.google.com/github/JenniGarcia234/Prueba-de-logica/blob/main/ejercicio1.ipynb\" target=\"_parent\"><img src=\"https://colab.research.google.com/assets/colab-badge.svg\" alt=\"Open In Colab\"/></a>"
      ]
    },
    {
      "cell_type": "code",
      "metadata": {
        "colab": {
          "base_uri": "https://localhost:8080/"
        },
        "id": "6_gWRafW2005",
        "outputId": "e103123c-2d20-421f-f3c9-0c37a1be0243"
      },
      "source": [
        "cases= input('Ingresa T :')\n",
        "for i in range(0,int(cases)):\n",
        "   n=input('Ingresa n:')\n",
        "   m=input('Ingresa m:')\n",
        "   n= int(n)\n",
        "   m= int(m)\n",
        "\n",
        "   if n==m and n>1:\n",
        "      if n%2==0:\n",
        "        print(\"L\")\n",
        "      else:\n",
        "         print(\"R\")\n",
        "  \n",
        "   elif n>m and m>1:\n",
        "     if m%2==0:\n",
        "       print ('U')\n",
        "     else:\n",
        "        print('D')\n",
        "\n",
        "\n",
        "   elif m>n:\n",
        "      if m%2==0:\n",
        "        print('L')\n",
        "      else:\n",
        "          print(\"R\")\n",
        "    \n",
        "   elif m==1:\n",
        "\n",
        "      if n==1:\n",
        "        print ('R')\n",
        "      else:\n",
        "        print('D')"
      ],
      "execution_count": null,
      "outputs": [
        {
          "output_type": "stream",
          "text": [
            "Ingresa T :2\n",
            "Ingresa n:2\n",
            "Ingresa m:1\n",
            "D\n",
            "Ingresa n:0\n"
          ],
          "name": "stdout"
        }
      ]
    }
  ]
}