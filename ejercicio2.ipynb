{
  "nbformat": 4,
  "nbformat_minor": 0,
  "metadata": {
    "colab": {
      "name": "ejercicio2.ipynb",
      "provenance": [],
      "collapsed_sections": [],
      "authorship_tag": "ABX9TyOnY4zkHPin7b9Ms7LgGyfn",
      "include_colab_link": true
    },
    "kernelspec": {
      "name": "python3",
      "display_name": "Python 3"
    },
    "language_info": {
      "name": "python"
    }
  },
  "cells": [
    {
      "cell_type": "markdown",
      "metadata": {
        "id": "view-in-github",
        "colab_type": "text"
      },
      "source": [
        "<a href=\"https://colab.research.google.com/github/JenniGarcia234/Prueba-de-logica/blob/main/ejercicio2.ipynb\" target=\"_parent\"><img src=\"https://colab.research.google.com/assets/colab-badge.svg\" alt=\"Open In Colab\"/></a>"
      ]
    },
    {
      "cell_type": "code",
      "metadata": {
        "colab": {
          "base_uri": "https://localhost:8080/"
        },
        "id": "EseZ-PvY_PSg",
        "outputId": "9bee8677-6aa0-4891-cabd-2a93d373c75b"
      },
      "source": [
        "\n",
        "#Definir la era o periodo para la primer parte\n",
        "def yearRoman(x_l):\n",
        "   t1=754\n",
        "   t2=753 \n",
        "   x_f=x_l.upper()\n",
        "   if x_f.find(\"BC\")!=-1:\n",
        "     p_f = int(x_f.replace(\"BC\",\" \").strip())\n",
        "     return convertToRoman(t1-p_f)\n",
        "     \n",
        "   elif x_f.upper().find(\"AD\")!=-1: \n",
        "     p_f = int(x_f.replace(\"AD\",\" \").strip())\n",
        "     return convertToRoman(t2+p_f)\n",
        "\n",
        "def convertToRoman(num):\n",
        " num_map = [(1000, 'M'), (900, 'CM'), (500, 'D'), (400, 'CD'), (100, 'C'), (90, 'XC'),\n",
        "           (50, 'L'), (40, 'XL'), (10, 'X'), (9, 'IX'), (5, 'V'), (4, 'IV'), (1, 'I')]\n",
        " roman = ''\n",
        "\n",
        " while num > 0:\n",
        "        for i, r in num_map:\n",
        "            while num >= i:\n",
        "                roman += r\n",
        "                num -= i\n",
        "\n",
        " return roman\n",
        "\n",
        "def countC(c1,c2):\n",
        " if len(c1)>len(c2):\n",
        "   return len(c1)\n",
        " else:\n",
        "   return len(c2)\n",
        "\n",
        "def calcular():\n",
        " periodo= input('Ingrese periodo a conversión:')\n",
        "\n",
        " if periodo==\"\":\n",
        "  print(\"Error, ingrese una periodo válido\")\n",
        " else:\n",
        "   cifra=periodo.split('-')\n",
        "   primer_fecha=cifra[0]\n",
        "   segunda_fecha=cifra[1]\n",
        "   x1=yearRoman(primer_fecha)\n",
        "   x2=yearRoman(segunda_fecha)\n",
        "   print(countC(x1,x2))\n",
        "\n",
        "   \n",
        "calcular()\n",
        "\n",
        "   \n",
        "\n",
        " \n"
      ],
      "execution_count": null,
      "outputs": [
        {
          "output_type": "stream",
          "text": [
            "Ingrese periodo a conversión:546bc-78ad\n",
            "8\n"
          ],
          "name": "stdout"
        }
      ]
    }
  ]
}